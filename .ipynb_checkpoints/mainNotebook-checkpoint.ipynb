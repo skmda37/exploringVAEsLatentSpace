{
 "cells": [
  {
   "cell_type": "markdown",
   "metadata": {},
   "source": [
    "### Importing the libraries"
   ]
  },
  {
   "cell_type": "code",
   "execution_count": 1,
   "metadata": {},
   "outputs": [],
   "source": [
    "import tensorflow as tf\n",
    "\n",
    "import os\n",
    "import time\n",
    "import numpy as np \n",
    "import glob\n",
    "import matplotlib.pyplot as plt\n",
    "import PIL\n",
    "import imageio\n",
    "\n",
    "from IPython import display"
   ]
  },
  {
   "cell_type": "markdown",
   "metadata": {},
   "source": [
    "### TensorFlow and Python version"
   ]
  },
  {
   "cell_type": "code",
   "execution_count": 2,
   "metadata": {},
   "outputs": [
    {
     "name": "stdout",
     "output_type": "stream",
     "text": [
      "2.1.0\n"
     ]
    }
   ],
   "source": [
    "print(str(tf.__version__))"
   ]
  },
  {
   "cell_type": "code",
   "execution_count": 3,
   "metadata": {},
   "outputs": [
    {
     "name": "stdout",
     "output_type": "stream",
     "text": [
      "3.7.6\n"
     ]
    }
   ],
   "source": [
    "import platform\n",
    "print(platform.python_version())"
   ]
  },
  {
   "cell_type": "markdown",
   "metadata": {},
   "source": [
    "### TensorFlow 2 Eager execution\n",
    "\n",
    "Recall that in TensortFlow 2 eager execution is enabled by default. With eager execution operations are evaluated immediately without building graphs. Operations return concrete values instead of constructing a computational graph to run later."
   ]
  },
  {
   "cell_type": "code",
   "execution_count": 5,
   "metadata": {},
   "outputs": [
    {
     "data": {
      "text/plain": [
       "True"
      ]
     },
     "execution_count": 5,
     "metadata": {},
     "output_type": "execute_result"
    }
   ],
   "source": [
    "tf.executing_eagerly()"
   ]
  },
  {
   "cell_type": "markdown",
   "metadata": {},
   "source": [
    "### Loading the MNIST dataset\n",
    "\n",
    "First we load the MNIST dataset directly from `tf.keras.datasets`.  We won't need the labels, thus we just keep the training images and test images.\n",
    "\n",
    "By printing the shape of `train_images` and `test_images` we see that we have 60000 training images and 10000 test images. Each MNIST picture consists of 28x28 pixels. "
   ]
  },
  {
   "cell_type": "code",
   "execution_count": 6,
   "metadata": {},
   "outputs": [
    {
     "name": "stdout",
     "output_type": "stream",
     "text": [
      "\n",
      "Type: <class 'numpy.ndarray'>\n",
      "train_images shape: (60000, 28, 28)\n",
      "test_images shape: (10000, 28, 28)\n"
     ]
    }
   ],
   "source": [
    "(train_images, _), (test_images, _) = tf.keras.datasets.mnist.load_data()\n",
    "\n",
    "print()\n",
    "print(\"Type: {}\".format(type(train_images)))\n",
    "print(\"train_images shape: {}\".format(train_images.shape))\n",
    "print(\"test_images shape: {}\".format(test_images.shape))"
   ]
  },
  {
   "cell_type": "markdown",
   "metadata": {},
   "source": [
    "### Reshaping and normalizing the dataset"
   ]
  },
  {
   "cell_type": "code",
   "execution_count": 7,
   "metadata": {},
   "outputs": [],
   "source": [
    "# reshaping dataset\n",
    "train_images = train_images.reshape(train_images.shape[0],28,28,1).astype(\"float32\")\n",
    "test_images = test_images.reshape(test_images.shape[0],28,28,1).astype(\"float32\")\n",
    "\n",
    "# normalize dataset: each MNIST image consists of 28x28 integers between 0-255\n",
    "train_images /= 255.\n",
    "test_images /= 255.\n",
    "\n",
    "# binarization: pixel values >= 0.5 become 1 | pixel values < 0.5 become 0\n",
    "train_images[train_images >= .5] = 1.\n",
    "train_images[train_images < .5] = 0.\n",
    "\n",
    "test_images[test_images >= .5] = 1.\n",
    "test_images[test_images < .5] = 0.\n"
   ]
  },
  {
   "cell_type": "markdown",
   "metadata": {},
   "source": [
    "### Shuffle dataset and create batches\n",
    "\n",
    "**(Stochastic) Gradient Descent** works properly when the instances in the training set are **i.i.d**. An easy way to ensure this, is to shuffle the training data. We can do so by first creating a `TensorSliceDataset` object of `train_images` and `test_images` respectively and then applying the`shuffle()` method on them. \n",
    "\n",
    "We will also split our training and test data into **batches** by applying the `batch()` method.\n",
    "\n",
    "For the sake of reproducibility we set `seed=42` in the method `shuffle()`."
   ]
  },
  {
   "cell_type": "code",
   "execution_count": 8,
   "metadata": {},
   "outputs": [],
   "source": [
    "# initialize varibles for shuffling dataset and creating batches\n",
    "TRAIN_BUF = 60000\n",
    "BATCH_SIZE = 100\n",
    "TEST_BUF = 10000\n",
    "\n",
    "# shuffle dataset and creat batches\n",
    "train_dataset = tf.data.Dataset.from_tensor_slices(train_images).shuffle(TRAIN_BUF,seed=42).batch(BATCH_SIZE)\n",
    "test_dataset = tf.data.Dataset.from_tensor_slices(test_images).shuffle(TEST_BUF,seed=42).batch(BATCH_SIZE)"
   ]
  },
  {
   "cell_type": "markdown",
   "metadata": {},
   "source": [
    "The last code cell shuffled our dataset and split it into batches of size `BATCH_SIZE`. When we iterate through **the first 3 items** in `train_dataset`, we see the shape of our batches is indeed what we wanted them to be."
   ]
  },
  {
   "cell_type": "code",
   "execution_count": 17,
   "metadata": {},
   "outputs": [
    {
     "name": "stdout",
     "output_type": "stream",
     "text": [
      "(100, 28, 28, 1)\n",
      "(100, 28, 28, 1)\n",
      "(100, 28, 28, 1)\n"
     ]
    }
   ],
   "source": [
    "for item in iter(train_dataset.take(3)):\n",
    "    print(item.shape)"
   ]
  },
  {
   "cell_type": "markdown",
   "metadata": {},
   "source": [
    "### How Variational Autoencoders work in a nutshell\n",
    "\n",
    "### Network Architecture\n",
    "\n",
    "### Refresher on Transposed Convolution\n",
    "In case you are not familiar with **Transposed Convolution**, I recommend looking at these [visualizations](https://github.com/vdumoulin/conv_arithmetic) on github."
   ]
  },
  {
   "cell_type": "code",
   "execution_count": 45,
   "metadata": {},
   "outputs": [],
   "source": [
    "# define convolutional variational autoencoder model class\n",
    "class CVAE(tf.keras.Model):\n",
    "    def __init__(self,latent_dim):\n",
    "        super(CVAE,self).__init__()\n",
    "        self.latent_dim = latent_dim\n",
    "        self.inference_net = tf.keras.Sequential(\n",
    "            [\n",
    "                tf.keras.layers.InputLayer(input_shape=(28,28,1)),\n",
    "                tf.keras.layers.Conv2D(\n",
    "                    filters=32, kernel_size=3, strides=(2,2), activation='relu'),\n",
    "                tf.keras.layers.Conv2D(\n",
    "                    filters=64, kernel_size=3, strides=(2,2), activation='relu'),\n",
    "                tf.keras.layers.Flatten(),\n",
    "                # no activation since mean and log_var can be either pos. or neg.\n",
    "                tf.keras.layers.Dense(latent_dim + latent_dim)\n",
    "\n",
    "            ]\n",
    "        )\n",
    "        \n",
    "        self.generative_net = tf.keras.Sequential(\n",
    "            [\n",
    "                tf.keras.layers.InputLayer(input_shape=(latent_dim,)),\n",
    "                tf.keras.layers.Dense(units=7*7*32, activation=tf.nn.relu),\n",
    "                tf.keras.layers.Reshape(target_shape=(7,7,32)),\n",
    "                tf.keras.layers.Conv2DTranspose(\n",
    "                    filters=64,\n",
    "                    kernel_size=3,\n",
    "                    strides=(2,2),\n",
    "                    padding=\"SAME\",\n",
    "                    activation='relu'),\n",
    "                tf.keras.layers.Conv2DTranspose(\n",
    "                    filters=32,\n",
    "                    kernel_size=3,\n",
    "                    strides=(2,2),\n",
    "                    padding=\"SAME\",\n",
    "                    activation='relu'),\n",
    "                # no activation\n",
    "                tf.keras.layers.Conv2DTranspose(\n",
    "                    filters=1, kernel_size=3, strides=(1,1), padding=\"SAME\")\n",
    "\n",
    "            ]\n",
    "        )\n",
    "    \n",
    "    # here only decorate sample method with @tf.functionthe \n",
    "    @tf.function\n",
    "    def sample(self, eps=None):\n",
    "        if eps is None:\n",
    "            eps = tf.random.normal(shape=(BATCH_SIZE, self.latent_dim))\n",
    "        return self.decode(eps, apply_sigmoid=True)\n",
    "    \n",
    "    #methods below will be decorated with @tf.function in trainining loop\n",
    "    def encode(self, x):\n",
    "        mean, logvar =tf.split(self.inference_net(x), num_or_size_splits=2, axis=1)\n",
    "        return mean, logvar\n",
    "    \n",
    "    def reparametrize(self, mean, logvar):\n",
    "        eps = tf.random.normal(shape=mean.shape)\n",
    "        return eps * tf.exp(logvar *.5) + mean\n",
    "    \n",
    "    def decode(self, z, apply_sigmoid=False):\n",
    "        logits = self.generative_net(z)\n",
    "        if apply_sigmoid:\n",
    "            probs = tf.sigmoid(logits)\n",
    "            return probs\n",
    "        \n",
    "        return logits"
   ]
  },
  {
   "cell_type": "markdown",
   "metadata": {},
   "source": [
    "### The Loss Function\n",
    "\n",
    "Variational Autoencoders are trained to maximize the evidence lower bound **(ELBO)** which is a lower bound to the marginal log likelihood, i.e. \n",
    "\n",
    "$\\log p(x) \\geq ELBO = \\mathbb{E}_{q(z|x)}\\bigg[\\frac{p(x,z)}{q(z|x)}\\bigg] = \\mathbb{E}_{q(z|x)} \\bigg[ \\log p(x|z) + \\log p(z) - \\log q(z|x) \\bigg]$.\n",
    "\n",
    "We have to estimate the expectation above and will do this with a simple Monte Carlo estimate:\n",
    "\n",
    "$\\log p(x|z) + \\log p(z) - \\log q(z|x)$\n",
    "\n",
    "where $z$ is sampled from $q(z|x)$.\n",
    "\n",
    "**Note:**\n",
    "\n",
    "The term \n",
    "\n",
    "$\\mathbb{E}_{q(z|x)} \\bigg[ \\log p(z) - \\log q(z|x) \\bigg]$\n",
    "\n",
    "is the **KL-Divergence** of two gaussians and has an analytic solution that we could use but for simplicity we will use a simple Monte Carlo estimate."
   ]
  },
  {
   "cell_type": "code",
   "execution_count": 50,
   "metadata": {},
   "outputs": [],
   "source": [
    "# use adam optimizer\n",
    "optimizer = tf.keras.optimizers.Adam(1e-4)\n",
    "\n",
    "# computes log of normal density\n",
    "def log_normal_pdf(sample, mean, logvar, raxis=1):\n",
    "    log2pi = tf.math.log(2. * np.pi)\n",
    "    return tf.reduce_sum(\n",
    "        -.5 * ((sample -mean)**2. * tf.exp(-logvar) + logvar + log2pi), axis=raxis\n",
    "    )\n",
    "\n",
    "# computes loss of model for batch x\n",
    "@tf.function\n",
    "def compute_loss(model, x):\n",
    "    mean, logvar = model.encode(x)\n",
    "    z = model.reparametrize(mean, logvar)\n",
    "    x_logit = model.decode(z)\n",
    "    \n",
    "    cross_ent = tf.nn.sigmoid_cross_entropy_with_logits(logits=x_logit, labels=x)\n",
    "    logpx_z = -tf.reduce_sum(cross_ent, axis=[1,2,3])\n",
    "    logpz = log_normal_pdf(z, 0., 0.)\n",
    "    logqz_x = log_normal_pdf(z, mean, logvar)\n",
    "    return -tf.reduce_mean(logpx_z + logpz - logqz_x)\n",
    "\n",
    "# computes and applies gradients of loss with resoect to model weights\n",
    "@tf.function\n",
    "def compute_apply_gradients(model, x, optimizer):\n",
    "    with tf.GradientTape() as tape:\n",
    "        loss = compute_loss(model, x)\n",
    "    gradients = tape.gradient(loss, model.trainable_variables)\n",
    "    optimizer.apply_gradients(zip(gradients, model.trainable_variables))"
   ]
  },
  {
   "cell_type": "markdown",
   "metadata": {},
   "source": [
    "### Trainining\n",
    "* We will train for **100 epochs**\n",
    "* "
   ]
  },
  {
   "cell_type": "code",
   "execution_count": 51,
   "metadata": {},
   "outputs": [],
   "source": [
    "# hyperparameters of model and training\n",
    "EPOCHS = 100\n",
    "latent_dim = 50\n",
    "\n",
    "# instantiate model\n",
    "model = CVAE(latent_dim)"
   ]
  },
  {
   "cell_type": "markdown",
   "metadata": {},
   "source": [
    "### Generating Images\n",
    "Our model can generate **NEW IMAGES**. We would like to see what kind of images our model would generate after every epoch. We do this by:\n",
    "* specifying the **numbers of examples** we want to generate in total at each epoch (in `num_examples_to_generate`)\n",
    "* **sampling the latent vectors** form unit gaussian prior $p(z)$ (reference to these samples is `random_vector_for_generation`)\n",
    "* after a certain epoch **feeding the generator** of the model each $z$ in `random_vector_for_generation`  and turn it into logits of $p(x|z)$ which is a Bernoulli Distribution on the pixels of an image\n",
    "* **plotting the resulting Bernoulli distribution** $p(x|z)$ for each latent vecotr $z$\n",
    "\n",
    "**Recall:** The Bernoulli distribution $=p(x|z)$ assigns each pixel $i$ a probabilty $\\theta_i$ (the probabilty that the pixel is white). The expected image is  $\\mathbb{E}_{p(x|z)}[ x ] = \\theta$. We can thus see the expected image by plotting the generated probabilities $\\theta$. The generator $p(x|z)$ outputs these probabilities $\\theta$."
   ]
  },
  {
   "cell_type": "code",
   "execution_count": 52,
   "metadata": {},
   "outputs": [],
   "source": [
    "# initialize random latent vector for image generation (after training)\n",
    "num_examples_to_generate = 16\n",
    "random_vector_for_generation = tf.random.normal(\n",
    "    shape=[num_examples_to_generate,latent_dim])\n",
    "\n",
    "# generates and saves\n",
    "def generate_and_save_images(model, epoch, latent_vectors):\n",
    "    predictions = model.sample(latent_vectors)\n",
    "    fig = plt.figure(figsize=(4,4))\n",
    "    \n",
    "    for i in range(predictions.shape[0]):\n",
    "        plt.subplot(4,4, i+1)\n",
    "        plt.imshow(predictions[i, :, :, 0], cmap=\"gray\")\n",
    "        plt.axis(\"off\")\n",
    "    \n",
    "    plt.savefig(\"image_at_epoch_{:04d}.png\".format(epoch))\n",
    "    plt.show()"
   ]
  },
  {
   "cell_type": "code",
   "execution_count": null,
   "metadata": {},
   "outputs": [
    {
     "name": "stdout",
     "output_type": "stream",
     "text": [
      "Epoch: 3, Test set ELBO: -111.88827514648438, time passed for current epoch 31.5055570602417\n"
     ]
    }
   ],
   "source": [
    "generate_and_save_images(model, 0, random_vector_for_generation)\n",
    "\n",
    "for epoch in range(1,EPOCHS +1):\n",
    "    #perform one training epoch\n",
    "    start_time = time.time()\n",
    "    for train_x in train_dataset:\n",
    "        compute_apply_gradients(model, train_x, optimizer)\n",
    "    end_time = time.time()\n",
    "    \n",
    "    # print metrics and generate and save images\n",
    "    if epoch % 1 == 0:\n",
    "        loss = tf.keras.metrics.Mean()\n",
    "        for test_x in test_dataset:\n",
    "            loss(compute_loss(model, test_x))\n",
    "        elbo = -loss.result()\n",
    "        display.clear_output(wait=False)\n",
    "        print(\"Epoch: {}, Test set ELBO: {}, \"\n",
    "              \"Time passed for current epoch: {}\".format(epoch, elbo, end_time-start_time)\n",
    "             )\n",
    "        \n",
    "        generate_and_save_images(model, epoch, random_vector_for_generation)"
   ]
  },
  {
   "cell_type": "code",
   "execution_count": null,
   "metadata": {},
   "outputs": [],
   "source": []
  },
  {
   "cell_type": "code",
   "execution_count": null,
   "metadata": {},
   "outputs": [],
   "source": []
  },
  {
   "cell_type": "code",
   "execution_count": null,
   "metadata": {},
   "outputs": [],
   "source": []
  }
 ],
 "metadata": {
  "kernelspec": {
   "display_name": "exploringVAE",
   "language": "python",
   "name": "exploringvae"
  },
  "language_info": {
   "codemirror_mode": {
    "name": "ipython",
    "version": 3
   },
   "file_extension": ".py",
   "mimetype": "text/x-python",
   "name": "python",
   "nbconvert_exporter": "python",
   "pygments_lexer": "ipython3",
   "version": "3.7.6"
  }
 },
 "nbformat": 4,
 "nbformat_minor": 4
}
